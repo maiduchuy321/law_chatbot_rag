{
 "cells": [
  {
   "cell_type": "markdown",
   "id": "c177bc1e-2873-42d1-bd86-6930484abb2e",
   "metadata": {},
   "source": [
    "## Define LLM and Embedding model"
   ]
  },
  {
   "cell_type": "code",
   "execution_count": null,
   "id": "12ee72d8-a084-4ab9-9aa2-7e64c0b50f00",
   "metadata": {},
   "outputs": [],
   "source": [
    "# !pip install llama-index"
   ]
  },
  {
   "cell_type": "code",
   "execution_count": null,
   "id": "bfbb954c-9237-4625-a66a-5d1b4af73967",
   "metadata": {},
   "outputs": [],
   "source": [
    "# CMAKE_ARGS=\"-DLLAMA_CUDA=on\""
   ]
  },
  {
   "cell_type": "code",
   "execution_count": null,
   "id": "dbeadadf-e93f-45fd-a5b0-9572af051cf2",
   "metadata": {},
   "outputs": [],
   "source": [
    "# pip install llama-cpp-python"
   ]
  },
  {
   "cell_type": "code",
   "execution_count": null,
   "id": "b602e4bb-a6fd-42f7-a61e-96984f51422f",
   "metadata": {},
   "outputs": [],
   "source": [
    "# %pip install llama-index-embeddings-huggingface\n",
    "# %pip install llama-index-llms-llama-cpp"
   ]
  },
  {
   "cell_type": "code",
   "execution_count": null,
   "id": "c360c365-6907-4818-ad2e-af7c3e0098ad",
   "metadata": {},
   "outputs": [],
   "source": [
    "# !pip install  tensorboard\n",
    "# # Install Hugging Face libraries\n",
    "# !pip install --upgrade \\\n",
    "#   \"sentence-transformers>=3\" \\\n",
    "#   \"datasets==2.19.1\"  \\\n",
    "#   \"transformers==4.41.2\" "
   ]
  },
  {
   "cell_type": "code",
   "execution_count": null,
   "id": "9dfbadae-fc9b-4476-bc1c-86fc53e398a6",
   "metadata": {},
   "outputs": [
    {
     "data": {
      "text/plain": [
       "True"
      ]
     },
     "execution_count": 1,
     "metadata": {},
     "output_type": "execute_result"
    }
   ],
   "source": [
    "import torch\n",
    "torch.cuda.is_available()"
   ]
  },
  {
   "cell_type": "code",
   "execution_count": null,
   "id": "e0213ed2-a50c-4f5d-a405-8d5a258e458e",
   "metadata": {},
   "outputs": [
    {
     "name": "stderr",
     "output_type": "stream",
     "text": [
      "C:\\Users\\maidu\\anaconda3\\envs\\LamaIndex\\Lib\\site-packages\\tqdm\\auto.py:21: TqdmWarning: IProgress not found. Please update jupyter and ipywidgets. See https://ipywidgets.readthedocs.io/en/stable/user_install.html\n",
      "  from .autonotebook import tqdm as notebook_tqdm\n"
     ]
    }
   ],
   "source": [
    "from llama_index.embeddings.huggingface import HuggingFaceEmbedding\n",
    "from llama_index.core import Settings\n",
    "\n",
    "embed_model = HuggingFaceEmbedding(\n",
    "    model_name=\"maiduchuy321/vietnamese-bi-encoder-fine-tuning-for-law-chatbot\")\n",
    "# embed_model = HuggingFaceEmbedding(\n",
    "#     model_name=\"bkai-foundation-models/vietnamese-bi-encoder\"\n",
    "# )\n"
   ]
  },
  {
   "cell_type": "code",
   "execution_count": null,
   "id": "3a7270b1-44ef-41b2-8448-3e3ef9a97d91",
   "metadata": {},
   "outputs": [],
   "source": [
    "Settings.embed_model = embed_model"
   ]
  },
  {
   "cell_type": "code",
   "execution_count": null,
   "id": "f1344b6c-d9d0-4b66-a2e9-76224c7bbcc1",
   "metadata": {},
   "outputs": [],
   "source": [
    "from llama_index.core import SimpleDirectoryReader, VectorStoreIndex\n",
    "from llama_index.llms.llama_cpp import LlamaCPP\n",
    "from llama_index.llms.llama_cpp.llama_utils import (\n",
    "    messages_to_prompt,\n",
    "    completion_to_prompt,\n",
    ")"
   ]
  },
  {
   "cell_type": "code",
   "execution_count": null,
   "id": "c5cb8b46-70ed-43e8-be00-8e58e85c864e",
   "metadata": {},
   "outputs": [
    {
     "name": "stderr",
     "output_type": "stream",
     "text": [
      "llama_model_loader: loaded meta data with 22 key-value pairs and 291 tensors from I:/Hoc/do an/model/ggml-vistral-7B-chat-q4_1.gguf (version GGUF V3 (latest))\n",
      "llama_model_loader: Dumping metadata keys/values. Note: KV overrides do not apply in this output.\n",
      "llama_model_loader: - kv   0:                       general.architecture str              = llama\n",
      "llama_model_loader: - kv   1:                               general.name str              = .\n",
      "llama_model_loader: - kv   2:                       llama.context_length u32              = 32768\n",
      "llama_model_loader: - kv   3:                     llama.embedding_length u32              = 4096\n",
      "llama_model_loader: - kv   4:                          llama.block_count u32              = 32\n",
      "llama_model_loader: - kv   5:                  llama.feed_forward_length u32              = 14336\n",
      "llama_model_loader: - kv   6:                 llama.rope.dimension_count u32              = 128\n",
      "llama_model_loader: - kv   7:                 llama.attention.head_count u32              = 32\n",
      "llama_model_loader: - kv   8:              llama.attention.head_count_kv u32              = 8\n",
      "llama_model_loader: - kv   9:     llama.attention.layer_norm_rms_epsilon f32              = 0.000010\n",
      "llama_model_loader: - kv  10:                       llama.rope.freq_base f32              = 10000.000000\n",
      "llama_model_loader: - kv  11:                          general.file_type u32              = 3\n",
      "llama_model_loader: - kv  12:                       tokenizer.ggml.model str              = llama\n",
      "llama_model_loader: - kv  13:                      tokenizer.ggml.tokens arr[str,38369]   = [\"<unk>\", \"<s>\", \"</s>\", \"<0x00>\", \"<...\n",
      "llama_model_loader: - kv  14:                      tokenizer.ggml.scores arr[f32,38369]   = [0.000000, 0.000000, 0.000000, 0.0000...\n",
      "llama_model_loader: - kv  15:                  tokenizer.ggml.token_type arr[i32,38369]   = [2, 3, 3, 6, 6, 6, 6, 6, 6, 6, 6, 6, ...\n",
      "llama_model_loader: - kv  16:                tokenizer.ggml.bos_token_id u32              = 1\n",
      "llama_model_loader: - kv  17:                tokenizer.ggml.eos_token_id u32              = 2\n",
      "llama_model_loader: - kv  18:            tokenizer.ggml.unknown_token_id u32              = 0\n",
      "llama_model_loader: - kv  19:            tokenizer.ggml.padding_token_id u32              = 0\n",
      "llama_model_loader: - kv  20:                    tokenizer.chat_template str              = {% if messages[0]['role'] == 'system'...\n",
      "llama_model_loader: - kv  21:               general.quantization_version u32              = 2\n",
      "llama_model_loader: - type  f32:   65 tensors\n",
      "llama_model_loader: - type q4_1:  225 tensors\n",
      "llama_model_loader: - type q6_K:    1 tensors\n",
      "llm_load_vocab: special tokens definition check successful ( 263/38369 ).\n",
      "llm_load_print_meta: format           = GGUF V3 (latest)\n",
      "llm_load_print_meta: arch             = llama\n",
      "llm_load_print_meta: vocab type       = SPM\n",
      "llm_load_print_meta: n_vocab          = 38369\n",
      "llm_load_print_meta: n_merges         = 0\n",
      "llm_load_print_meta: n_ctx_train      = 32768\n",
      "llm_load_print_meta: n_embd           = 4096\n",
      "llm_load_print_meta: n_head           = 32\n",
      "llm_load_print_meta: n_head_kv        = 8\n",
      "llm_load_print_meta: n_layer          = 32\n",
      "llm_load_print_meta: n_rot            = 128\n",
      "llm_load_print_meta: n_embd_head_k    = 128\n",
      "llm_load_print_meta: n_embd_head_v    = 128\n",
      "llm_load_print_meta: n_gqa            = 4\n",
      "llm_load_print_meta: n_embd_k_gqa     = 1024\n",
      "llm_load_print_meta: n_embd_v_gqa     = 1024\n",
      "llm_load_print_meta: f_norm_eps       = 0.0e+00\n",
      "llm_load_print_meta: f_norm_rms_eps   = 1.0e-05\n",
      "llm_load_print_meta: f_clamp_kqv      = 0.0e+00\n",
      "llm_load_print_meta: f_max_alibi_bias = 0.0e+00\n",
      "llm_load_print_meta: f_logit_scale    = 0.0e+00\n",
      "llm_load_print_meta: n_ff             = 14336\n",
      "llm_load_print_meta: n_expert         = 0\n",
      "llm_load_print_meta: n_expert_used    = 0\n",
      "llm_load_print_meta: causal attn      = 1\n",
      "llm_load_print_meta: pooling type     = 0\n",
      "llm_load_print_meta: rope type        = 0\n",
      "llm_load_print_meta: rope scaling     = linear\n",
      "llm_load_print_meta: freq_base_train  = 10000.0\n",
      "llm_load_print_meta: freq_scale_train = 1\n",
      "llm_load_print_meta: n_yarn_orig_ctx  = 32768\n",
      "llm_load_print_meta: rope_finetuned   = unknown\n",
      "llm_load_print_meta: ssm_d_conv       = 0\n",
      "llm_load_print_meta: ssm_d_inner      = 0\n",
      "llm_load_print_meta: ssm_d_state      = 0\n",
      "llm_load_print_meta: ssm_dt_rank      = 0\n",
      "llm_load_print_meta: model type       = 7B\n",
      "llm_load_print_meta: model ftype      = Q4_1\n",
      "llm_load_print_meta: model params     = 7.29 B\n",
      "llm_load_print_meta: model size       = 4.28 GiB (5.03 BPW) \n",
      "llm_load_print_meta: general.name     = .\n",
      "llm_load_print_meta: BOS token        = 1 '<s>'\n",
      "llm_load_print_meta: EOS token        = 2 '</s>'\n",
      "llm_load_print_meta: UNK token        = 0 '<unk>'\n",
      "llm_load_print_meta: PAD token        = 0 '<unk>'\n",
      "llm_load_print_meta: LF token         = 13 '<0x0A>'\n",
      "llm_load_tensors: ggml ctx size =    0.30 MiB\n",
      "llm_load_tensors: offloading 30 repeating layers to GPU\n",
      "llm_load_tensors: offloaded 30/33 layers to GPU\n",
      "llm_load_tensors:        CPU buffer size =  4377.64 MiB\n",
      "llm_load_tensors:      CUDA0 buffer size =  3900.94 MiB\n",
      "..................................................................................................\n",
      "llama_new_context_with_model: n_ctx      = 2048\n",
      "llama_new_context_with_model: n_batch    = 512\n",
      "llama_new_context_with_model: n_ubatch   = 512\n",
      "llama_new_context_with_model: flash_attn = 0\n",
      "llama_new_context_with_model: freq_base  = 10000.0\n",
      "llama_new_context_with_model: freq_scale = 1\n",
      "llama_kv_cache_init:  CUDA_Host KV buffer size =    16.00 MiB\n",
      "llama_kv_cache_init:      CUDA0 KV buffer size =   240.00 MiB\n",
      "llama_new_context_with_model: KV self size  =  256.00 MiB, K (f16):  128.00 MiB, V (f16):  128.00 MiB\n",
      "llama_new_context_with_model:  CUDA_Host  output buffer size =     0.15 MiB\n",
      "llama_new_context_with_model:      CUDA0 compute buffer size =   213.89 MiB\n",
      "llama_new_context_with_model:  CUDA_Host compute buffer size =    12.01 MiB\n",
      "llama_new_context_with_model: graph nodes  = 1030\n",
      "llama_new_context_with_model: graph splits = 26\n",
      "AVX = 1 | AVX_VNNI = 0 | AVX2 = 1 | AVX512 = 0 | AVX512_VBMI = 0 | AVX512_VNNI = 0 | FMA = 1 | NEON = 0 | ARM_FMA = 0 | F16C = 1 | FP16_VA = 0 | WASM_SIMD = 0 | BLAS = 1 | SSE3 = 1 | SSSE3 = 0 | VSX = 0 | MATMUL_INT8 = 0 | LLAMAFILE = 1 | \n",
      "Model metadata: {'general.name': '.', 'general.architecture': 'llama', 'llama.context_length': '32768', 'llama.rope.dimension_count': '128', 'llama.embedding_length': '4096', 'llama.block_count': '32', 'llama.feed_forward_length': '14336', 'llama.attention.head_count': '32', 'tokenizer.ggml.eos_token_id': '2', 'general.file_type': '3', 'llama.attention.head_count_kv': '8', 'llama.attention.layer_norm_rms_epsilon': '0.000010', 'llama.rope.freq_base': '10000.000000', 'tokenizer.ggml.model': 'llama', 'general.quantization_version': '2', 'tokenizer.ggml.bos_token_id': '1', 'tokenizer.ggml.unknown_token_id': '0', 'tokenizer.ggml.padding_token_id': '0', 'tokenizer.chat_template': \"{% if messages[0]['role'] == 'system' %}{% set loop_messages = messages[1:] %}{% set system_message = messages[0]['content'] %}{% else %}{% set loop_messages = messages %}{% set system_message = false %}{% endif %}{% for message in loop_messages %}{% if (message['role'] == 'user') != (loop.index0 % 2 == 0) %}{{ raise_exception('Conversation roles must alternate user/assistant/user/assistant/...') }}{% endif %}{% if loop.index0 == 0 and system_message != false %}{% set content = '<<SYS>>\\\\n' + system_message + '\\\\n<</SYS>>\\\\n\\\\n' + message['content'] %}{% else %}{% set content = message['content'] %}{% endif %}{% if message['role'] == 'user' %}{{ bos_token + '[INST] ' + content.strip() + ' [/INST]' }}{% elif message['role'] == 'assistant' %}{{ ' '  + content.strip() + ' ' + eos_token }}{% endif %}{% endfor %}\"}\n",
      "Available chat formats from metadata: chat_template.default\n",
      "Using gguf chat template: {% if messages[0]['role'] == 'system' %}{% set loop_messages = messages[1:] %}{% set system_message = messages[0]['content'] %}{% else %}{% set loop_messages = messages %}{% set system_message = false %}{% endif %}{% for message in loop_messages %}{% if (message['role'] == 'user') != (loop.index0 % 2 == 0) %}{{ raise_exception('Conversation roles must alternate user/assistant/user/assistant/...') }}{% endif %}{% if loop.index0 == 0 and system_message != false %}{% set content = '<<SYS>>\\n' + system_message + '\\n<</SYS>>\\n\\n' + message['content'] %}{% else %}{% set content = message['content'] %}{% endif %}{% if message['role'] == 'user' %}{{ bos_token + '[INST] ' + content.strip() + ' [/INST]' }}{% elif message['role'] == 'assistant' %}{{ ' '  + content.strip() + ' ' + eos_token }}{% endif %}{% endfor %}\n",
      "Using chat eos_token: </s>\n",
      "Using chat bos_token: <s>\n"
     ]
    }
   ],
   "source": [
    "llm = LlamaCPP(\n",
    "    # You can pass in the URL to a GGML model to download it automatically\n",
    "    model_url=\"https://huggingface.co/uonlp/Vistral-7B-Chat-gguf/resolve/main/ggml-vistral-7B-chat-q4_0.gguf?download=true\"\n",
    "    ,\n",
    "    # optionally, you can set the path to a pre-downloaded model instead of model_url\n",
    "    # model_path=\"model_path\",\n",
    "    temperature=0.1,\n",
    "    max_new_tokens=256,\n",
    "    # llama2 has a context window of 4096 tokens, but we set it lower to allow for some wiggle room\n",
    "    context_window=2048,\n",
    "    # kwargs to pass to __call__()\n",
    "    generate_kwargs={},\n",
    "    # kwargs to pass to __init__()\n",
    "    # set to at least 1 to use GPU\n",
    "    model_kwargs={\"n_gpu_layers\": 30},\n",
    "    # transform inputs into Llama2 format\n",
    "    # messages_to_prompt=messages_to_prompt,\n",
    "    # completion_to_prompt=completion_to_prompt,\n",
    "    verbose=True,\n",
    ")"
   ]
  },
  {
   "cell_type": "code",
   "execution_count": null,
   "id": "7567c4be-561a-40e9-b8e4-34d91cff42e0",
   "metadata": {},
   "outputs": [],
   "source": [
    "Settings.llm = llm"
   ]
  },
  {
   "cell_type": "code",
   "execution_count": null,
   "id": "c2fe56c4-e3a7-4c9f-8b55-7d81615a4e50",
   "metadata": {},
   "outputs": [],
   "source": [
    "# response = llm.complete(\"Năm nay là năm bao nhiêu\")\n",
    "# print(response.text)"
   ]
  },
  {
   "cell_type": "markdown",
   "id": "986f00c0-0bed-43db-8b20-951d19e312f2",
   "metadata": {},
   "source": [
    "## Ingestion"
   ]
  },
  {
   "cell_type": "markdown",
   "id": "0c998237-999d-4cc5-9257-6885cc063d08",
   "metadata": {
    "jp-MarkdownHeadingCollapsed": true
   },
   "source": [
    "### Load data"
   ]
  },
  {
   "cell_type": "code",
   "execution_count": null,
   "id": "ee96f5dd-9380-4dae-bedc-cd0e34c15caa",
   "metadata": {},
   "outputs": [],
   "source": [
    "import pandas as pd\n",
    "\n",
    "# Đường dẫn đến file Excel\n",
    "file_path = 'CauHoi_DVC.HaGiang_ThucTeTaiTinh.xlsx'\n",
    "\n",
    "# Đọc tất cả các sheet vào một dictionary\n",
    "excel_data = pd.read_excel(file_path, sheet_name=None)\n",
    "\n",
    "# Tạo các DataFrame riêng biệt cho mỗi sheet\n",
    "df_sheet1 = excel_data.get('Sở, ngành')\n",
    "df_sheet2 = excel_data.get('UBND các huyện, tp')\n",
    "df_sheet3 = excel_data.get('Các đơn vị đã gửi câu trả lời')"
   ]
  },
  {
   "cell_type": "code",
   "execution_count": null,
   "id": "8bbc7748-43a7-46a1-ac66-95329c7e40a9",
   "metadata": {
    "scrolled": true
   },
   "outputs": [
    {
     "name": "stdout",
     "output_type": "stream",
     "text": [
      "<class 'pandas.core.frame.DataFrame'>\n",
      "RangeIndex: 869 entries, 0 to 868\n",
      "Data columns (total 8 columns):\n",
      " #   Column           Non-Null Count  Dtype  \n",
      "---  ------           --------------  -----  \n",
      " 0   STT              864 non-null    float64\n",
      " 1   Tên cơ quan      864 non-null    object \n",
      " 2   Tên đơn vị       77 non-null     object \n",
      " 3   Câu hỏi          864 non-null    object \n",
      " 4   Câu trả lời      864 non-null    object \n",
      " 5   Tên TTHC         745 non-null    object \n",
      " 6   Số hiệu văn bản  864 non-null    object \n",
      " 7   Ghi Chú          0 non-null      float64\n",
      "dtypes: float64(2), object(6)\n",
      "memory usage: 54.4+ KB\n"
     ]
    }
   ],
   "source": [
    "df_sheet1.info()"
   ]
  },
  {
   "cell_type": "code",
   "execution_count": null,
   "id": "c85b1fc2-97cb-4646-8af9-80821cfe30b9",
   "metadata": {},
   "outputs": [
    {
     "name": "stdout",
     "output_type": "stream",
     "text": [
      "<class 'pandas.core.frame.DataFrame'>\n",
      "RangeIndex: 763 entries, 0 to 762\n",
      "Data columns (total 8 columns):\n",
      " #   Column           Non-Null Count  Dtype  \n",
      "---  ------           --------------  -----  \n",
      " 0   STT              763 non-null    int64  \n",
      " 1   Tên cơ quan      763 non-null    object \n",
      " 2   Tên đơn vị       749 non-null    object \n",
      " 3   Câu hỏi          763 non-null    object \n",
      " 4   Câu trả lời      763 non-null    object \n",
      " 5   Tên TTHC         638 non-null    object \n",
      " 6   Số hiệu văn bản  763 non-null    object \n",
      " 7   Ghi Chú          0 non-null      float64\n",
      "dtypes: float64(1), int64(1), object(6)\n",
      "memory usage: 47.8+ KB\n"
     ]
    }
   ],
   "source": [
    "df_sheet2.info()"
   ]
  },
  {
   "cell_type": "code",
   "execution_count": null,
   "id": "e8fd43db-46b0-4c68-8e7b-f0b321903abb",
   "metadata": {},
   "outputs": [],
   "source": [
    "df_sheet1.drop(df_sheet1.index[-5:], inplace=True)"
   ]
  },
  {
   "cell_type": "code",
   "execution_count": null,
   "id": "a242e43c-8c9f-4d92-a2a9-00cab479824f",
   "metadata": {},
   "outputs": [
    {
     "data": {
      "text/html": [
       "<div>\n",
       "<style scoped>\n",
       "    .dataframe tbody tr th:only-of-type {\n",
       "        vertical-align: middle;\n",
       "    }\n",
       "\n",
       "    .dataframe tbody tr th {\n",
       "        vertical-align: top;\n",
       "    }\n",
       "\n",
       "    .dataframe thead th {\n",
       "        text-align: right;\n",
       "    }\n",
       "</style>\n",
       "<table border=\"1\" class=\"dataframe\">\n",
       "  <thead>\n",
       "    <tr style=\"text-align: right;\">\n",
       "      <th></th>\n",
       "      <th>STT</th>\n",
       "      <th>Tên cơ quan</th>\n",
       "      <th>Tên đơn vị</th>\n",
       "      <th>Câu hỏi</th>\n",
       "      <th>Câu trả lời</th>\n",
       "      <th>Tên TTHC</th>\n",
       "      <th>Số hiệu văn bản</th>\n",
       "      <th>Ghi Chú</th>\n",
       "    </tr>\n",
       "  </thead>\n",
       "  <tbody>\n",
       "    <tr>\n",
       "      <th>0</th>\n",
       "      <td>1.0</td>\n",
       "      <td>Ban quản lý khu kinh tế</td>\n",
       "      <td>NaN</td>\n",
       "      <td>Đối tượng nào được thực hiện Thủ tục: Giao đất...</td>\n",
       "      <td>Tổ chức, cơ sở tôn giáo, người Việt Nam định c...</td>\n",
       "      <td>Mã thủ tục: 1.002253</td>\n",
       "      <td>17/BQLKKT-VP ngày 09/01/2024</td>\n",
       "      <td>NaN</td>\n",
       "    </tr>\n",
       "    <tr>\n",
       "      <th>1</th>\n",
       "      <td>2.0</td>\n",
       "      <td>Ban quản lý khu kinh tế</td>\n",
       "      <td>NaN</td>\n",
       "      <td>Phí lệ phí để thực hiện Thủ tục: Giao đất, cho...</td>\n",
       "      <td>Thủ tục HC không có phí, lệ phí (phí, lệ phí =...</td>\n",
       "      <td>Mã thủ tục: 1.002253</td>\n",
       "      <td>17/BQLKKT-VP ngày 09/01/2024</td>\n",
       "      <td>NaN</td>\n",
       "    </tr>\n",
       "    <tr>\n",
       "      <th>2</th>\n",
       "      <td>3.0</td>\n",
       "      <td>Ban quản lý khu kinh tế</td>\n",
       "      <td>NaN</td>\n",
       "      <td>Thời gian thực hiện Thủ tục: Giao đất, cho th...</td>\n",
       "      <td>Không quá 20 ngày làm việc kể từ ngày nhận đủ ...</td>\n",
       "      <td>Mã thủ tục: 1.002253\\nTên thủ tục: Giao đất, c...</td>\n",
       "      <td>17/BQLKKT-VP ngày 09/01/2024</td>\n",
       "      <td>NaN</td>\n",
       "    </tr>\n",
       "    <tr>\n",
       "      <th>3</th>\n",
       "      <td>4.0</td>\n",
       "      <td>Ban quản lý khu kinh tế</td>\n",
       "      <td>NaN</td>\n",
       "      <td>Thời gian thực hiện Thủ tục: Thẩm định thiết ...</td>\n",
       "      <td>Theo quy định của pháp luật:Không quá 40 ngày ...</td>\n",
       "      <td>Mã thủ tục: 1.009973\\nTên thủ tục: Thẩm định t...</td>\n",
       "      <td>17/BQLKKT-VP ngày 09/01/2024</td>\n",
       "      <td>NaN</td>\n",
       "    </tr>\n",
       "    <tr>\n",
       "      <th>4</th>\n",
       "      <td>5.0</td>\n",
       "      <td>Ban quản lý khu kinh tế</td>\n",
       "      <td>NaN</td>\n",
       "      <td>Văn bản nào quy định với phí, lệ phí Thẩm định...</td>\n",
       "      <td>Theo quy định tại Thông tư số 210/2016/TT-BTC ...</td>\n",
       "      <td>Mã thủ tục: 1.009973\\nTên thủ tục: Thẩm định t...</td>\n",
       "      <td>17/BQLKKT-VP ngày 09/01/2024</td>\n",
       "      <td>NaN</td>\n",
       "    </tr>\n",
       "    <tr>\n",
       "      <th>...</th>\n",
       "      <td>...</td>\n",
       "      <td>...</td>\n",
       "      <td>...</td>\n",
       "      <td>...</td>\n",
       "      <td>...</td>\n",
       "      <td>...</td>\n",
       "      <td>...</td>\n",
       "      <td>...</td>\n",
       "    </tr>\n",
       "    <tr>\n",
       "      <th>859</th>\n",
       "      <td>860.0</td>\n",
       "      <td>Sở Y tế</td>\n",
       "      <td>NaN</td>\n",
       "      <td>Bác sỹ, y sỹ, điều dưỡng, kỹ thuật viên y tế l...</td>\n",
       "      <td>Thông tin về thẩm quyền cấp mới, cấp lại, gia ...</td>\n",
       "      <td>Cấp mới, cấp lại, gia hạn, điều chỉnh giấy phé...</td>\n",
       "      <td>176/SYT-VP ngày 24/01/2024</td>\n",
       "      <td>NaN</td>\n",
       "    </tr>\n",
       "    <tr>\n",
       "      <th>860</th>\n",
       "      <td>861.0</td>\n",
       "      <td>Sở Y tế</td>\n",
       "      <td>NaN</td>\n",
       "      <td>Thời gian khám bệnh, chữa bệnh để làm người ch...</td>\n",
       "      <td>Theo Điều 104 của Luật Khám bệnh, chữa bệnh, c...</td>\n",
       "      <td>Điều chỉnh giấy phép hoạt động chuyên môn khi ...</td>\n",
       "      <td>176/SYT-VP ngày 24/01/2024</td>\n",
       "      <td>NaN</td>\n",
       "    </tr>\n",
       "    <tr>\n",
       "      <th>861</th>\n",
       "      <td>862.0</td>\n",
       "      <td>Sở Y tế</td>\n",
       "      <td>NaN</td>\n",
       "      <td>Trình tự thực hiện tự công bố cơ sở đủ điều ki...</td>\n",
       "      <td>Trình tự thực hiện tự công bố cơ sở đủ điều ki...</td>\n",
       "      <td>Trình tự thực hiện tự công bố cơ sở đủ điều ki...</td>\n",
       "      <td>176/SYT-VP ngày 24/01/2024</td>\n",
       "      <td>NaN</td>\n",
       "    </tr>\n",
       "    <tr>\n",
       "      <th>862</th>\n",
       "      <td>863.0</td>\n",
       "      <td>Sở Y tế</td>\n",
       "      <td>NaN</td>\n",
       "      <td>Cơ sở y tế muốn được đánh giá năng lực thực hi...</td>\n",
       "      <td>Theo quy định tại khoản 4 Điều 17 Nghị định số...</td>\n",
       "      <td>NaN</td>\n",
       "      <td>176/SYT-VP ngày 24/01/2024</td>\n",
       "      <td>NaN</td>\n",
       "    </tr>\n",
       "    <tr>\n",
       "      <th>863</th>\n",
       "      <td>864.0</td>\n",
       "      <td>Sở Y tế</td>\n",
       "      <td>NaN</td>\n",
       "      <td>Cơ sở y tế tư nhân đề nghị cấp mới, cấp lại, đ...</td>\n",
       "      <td>Theo quy định tại Điều 9, 10, 11 Nghị định số ...</td>\n",
       "      <td>NaN</td>\n",
       "      <td>176/SYT-VP ngày 24/01/2024</td>\n",
       "      <td>NaN</td>\n",
       "    </tr>\n",
       "  </tbody>\n",
       "</table>\n",
       "<p>864 rows × 8 columns</p>\n",
       "</div>"
      ],
      "text/plain": [
       "       STT              Tên cơ quan Tên đơn vị  \\\n",
       "0      1.0  Ban quản lý khu kinh tế        NaN   \n",
       "1      2.0  Ban quản lý khu kinh tế        NaN   \n",
       "2      3.0  Ban quản lý khu kinh tế        NaN   \n",
       "3      4.0  Ban quản lý khu kinh tế        NaN   \n",
       "4      5.0  Ban quản lý khu kinh tế        NaN   \n",
       "..     ...                      ...        ...   \n",
       "859  860.0                  Sở Y tế        NaN   \n",
       "860  861.0                  Sở Y tế        NaN   \n",
       "861  862.0                  Sở Y tế        NaN   \n",
       "862  863.0                  Sở Y tế        NaN   \n",
       "863  864.0                  Sở Y tế        NaN   \n",
       "\n",
       "                                               Câu hỏi  \\\n",
       "0    Đối tượng nào được thực hiện Thủ tục: Giao đất...   \n",
       "1    Phí lệ phí để thực hiện Thủ tục: Giao đất, cho...   \n",
       "2    Thời gian thực hiện Thủ tục: Giao đất, cho th...   \n",
       "3    Thời gian thực hiện Thủ tục: Thẩm định thiết ...   \n",
       "4    Văn bản nào quy định với phí, lệ phí Thẩm định...   \n",
       "..                                                 ...   \n",
       "859  Bác sỹ, y sỹ, điều dưỡng, kỹ thuật viên y tế l...   \n",
       "860  Thời gian khám bệnh, chữa bệnh để làm người ch...   \n",
       "861  Trình tự thực hiện tự công bố cơ sở đủ điều ki...   \n",
       "862  Cơ sở y tế muốn được đánh giá năng lực thực hi...   \n",
       "863  Cơ sở y tế tư nhân đề nghị cấp mới, cấp lại, đ...   \n",
       "\n",
       "                                           Câu trả lời  \\\n",
       "0    Tổ chức, cơ sở tôn giáo, người Việt Nam định c...   \n",
       "1    Thủ tục HC không có phí, lệ phí (phí, lệ phí =...   \n",
       "2    Không quá 20 ngày làm việc kể từ ngày nhận đủ ...   \n",
       "3    Theo quy định của pháp luật:Không quá 40 ngày ...   \n",
       "4    Theo quy định tại Thông tư số 210/2016/TT-BTC ...   \n",
       "..                                                 ...   \n",
       "859  Thông tin về thẩm quyền cấp mới, cấp lại, gia ...   \n",
       "860  Theo Điều 104 của Luật Khám bệnh, chữa bệnh, c...   \n",
       "861  Trình tự thực hiện tự công bố cơ sở đủ điều ki...   \n",
       "862  Theo quy định tại khoản 4 Điều 17 Nghị định số...   \n",
       "863  Theo quy định tại Điều 9, 10, 11 Nghị định số ...   \n",
       "\n",
       "                                              Tên TTHC  \\\n",
       "0                                 Mã thủ tục: 1.002253   \n",
       "1                                 Mã thủ tục: 1.002253   \n",
       "2    Mã thủ tục: 1.002253\\nTên thủ tục: Giao đất, c...   \n",
       "3    Mã thủ tục: 1.009973\\nTên thủ tục: Thẩm định t...   \n",
       "4    Mã thủ tục: 1.009973\\nTên thủ tục: Thẩm định t...   \n",
       "..                                                 ...   \n",
       "859  Cấp mới, cấp lại, gia hạn, điều chỉnh giấy phé...   \n",
       "860  Điều chỉnh giấy phép hoạt động chuyên môn khi ...   \n",
       "861  Trình tự thực hiện tự công bố cơ sở đủ điều ki...   \n",
       "862                                                NaN   \n",
       "863                                                NaN   \n",
       "\n",
       "                  Số hiệu văn bản  Ghi Chú  \n",
       "0    17/BQLKKT-VP ngày 09/01/2024      NaN  \n",
       "1    17/BQLKKT-VP ngày 09/01/2024      NaN  \n",
       "2    17/BQLKKT-VP ngày 09/01/2024      NaN  \n",
       "3    17/BQLKKT-VP ngày 09/01/2024      NaN  \n",
       "4    17/BQLKKT-VP ngày 09/01/2024      NaN  \n",
       "..                            ...      ...  \n",
       "859    176/SYT-VP ngày 24/01/2024      NaN  \n",
       "860    176/SYT-VP ngày 24/01/2024      NaN  \n",
       "861    176/SYT-VP ngày 24/01/2024      NaN  \n",
       "862    176/SYT-VP ngày 24/01/2024      NaN  \n",
       "863    176/SYT-VP ngày 24/01/2024      NaN  \n",
       "\n",
       "[864 rows x 8 columns]"
      ]
     },
     "execution_count": 57,
     "metadata": {},
     "output_type": "execute_result"
    }
   ],
   "source": [
    "df_sheet1"
   ]
  },
  {
   "cell_type": "code",
   "execution_count": null,
   "id": "08dc0e66-960e-46ae-a27b-9b1c6ee77865",
   "metadata": {},
   "outputs": [
    {
     "data": {
      "text/html": [
       "<div>\n",
       "<style scoped>\n",
       "    .dataframe tbody tr th:only-of-type {\n",
       "        vertical-align: middle;\n",
       "    }\n",
       "\n",
       "    .dataframe tbody tr th {\n",
       "        vertical-align: top;\n",
       "    }\n",
       "\n",
       "    .dataframe thead th {\n",
       "        text-align: right;\n",
       "    }\n",
       "</style>\n",
       "<table border=\"1\" class=\"dataframe\">\n",
       "  <thead>\n",
       "    <tr style=\"text-align: right;\">\n",
       "      <th></th>\n",
       "      <th>STT</th>\n",
       "      <th>Tên cơ quan</th>\n",
       "      <th>Tên đơn vị</th>\n",
       "      <th>Câu hỏi</th>\n",
       "      <th>Câu trả lời</th>\n",
       "      <th>Tên TTHC</th>\n",
       "      <th>Số hiệu văn bản</th>\n",
       "      <th>Ghi Chú</th>\n",
       "    </tr>\n",
       "  </thead>\n",
       "  <tbody>\n",
       "    <tr>\n",
       "      <th>0</th>\n",
       "      <td>1.0</td>\n",
       "      <td>Ban quản lý khu kinh tế</td>\n",
       "      <td>NaN</td>\n",
       "      <td>Đối tượng nào được thực hiện Thủ tục: Giao đất...</td>\n",
       "      <td>Tổ chức, cơ sở tôn giáo, người Việt Nam định c...</td>\n",
       "      <td>Mã thủ tục: 1.002253</td>\n",
       "      <td>17/BQLKKT-VP ngày 09/01/2024</td>\n",
       "      <td>NaN</td>\n",
       "    </tr>\n",
       "    <tr>\n",
       "      <th>1</th>\n",
       "      <td>2.0</td>\n",
       "      <td>Ban quản lý khu kinh tế</td>\n",
       "      <td>NaN</td>\n",
       "      <td>Phí lệ phí để thực hiện Thủ tục: Giao đất, cho...</td>\n",
       "      <td>Thủ tục HC không có phí, lệ phí (phí, lệ phí =...</td>\n",
       "      <td>Mã thủ tục: 1.002253</td>\n",
       "      <td>17/BQLKKT-VP ngày 09/01/2024</td>\n",
       "      <td>NaN</td>\n",
       "    </tr>\n",
       "    <tr>\n",
       "      <th>2</th>\n",
       "      <td>3.0</td>\n",
       "      <td>Ban quản lý khu kinh tế</td>\n",
       "      <td>NaN</td>\n",
       "      <td>Thời gian thực hiện Thủ tục: Giao đất, cho th...</td>\n",
       "      <td>Không quá 20 ngày làm việc kể từ ngày nhận đủ ...</td>\n",
       "      <td>Mã thủ tục: 1.002253\\nTên thủ tục: Giao đất, c...</td>\n",
       "      <td>17/BQLKKT-VP ngày 09/01/2024</td>\n",
       "      <td>NaN</td>\n",
       "    </tr>\n",
       "    <tr>\n",
       "      <th>3</th>\n",
       "      <td>4.0</td>\n",
       "      <td>Ban quản lý khu kinh tế</td>\n",
       "      <td>NaN</td>\n",
       "      <td>Thời gian thực hiện Thủ tục: Thẩm định thiết ...</td>\n",
       "      <td>Theo quy định của pháp luật:Không quá 40 ngày ...</td>\n",
       "      <td>Mã thủ tục: 1.009973\\nTên thủ tục: Thẩm định t...</td>\n",
       "      <td>17/BQLKKT-VP ngày 09/01/2024</td>\n",
       "      <td>NaN</td>\n",
       "    </tr>\n",
       "    <tr>\n",
       "      <th>4</th>\n",
       "      <td>5.0</td>\n",
       "      <td>Ban quản lý khu kinh tế</td>\n",
       "      <td>NaN</td>\n",
       "      <td>Văn bản nào quy định với phí, lệ phí Thẩm định...</td>\n",
       "      <td>Theo quy định tại Thông tư số 210/2016/TT-BTC ...</td>\n",
       "      <td>Mã thủ tục: 1.009973\\nTên thủ tục: Thẩm định t...</td>\n",
       "      <td>17/BQLKKT-VP ngày 09/01/2024</td>\n",
       "      <td>NaN</td>\n",
       "    </tr>\n",
       "    <tr>\n",
       "      <th>...</th>\n",
       "      <td>...</td>\n",
       "      <td>...</td>\n",
       "      <td>...</td>\n",
       "      <td>...</td>\n",
       "      <td>...</td>\n",
       "      <td>...</td>\n",
       "      <td>...</td>\n",
       "      <td>...</td>\n",
       "    </tr>\n",
       "    <tr>\n",
       "      <th>1622</th>\n",
       "      <td>759.0</td>\n",
       "      <td>UBND thành phố Hà Giang</td>\n",
       "      <td>UBND thành phố</td>\n",
       "      <td>Trình tự, thủ tục điều chỉnh giấy phép xây dự...</td>\n",
       "      <td>1.\\tTrình tự, thủ tục thực hiện:\\n1.1\\tGửi (nộ...</td>\n",
       "      <td>Thủ tục xin cấp giấy phép xây dựng\\nnhà ở riê...</td>\n",
       "      <td>3370/UBND-VP ngày 30/12/2024</td>\n",
       "      <td>NaN</td>\n",
       "    </tr>\n",
       "    <tr>\n",
       "      <th>1623</th>\n",
       "      <td>760.0</td>\n",
       "      <td>UBND thành phố Hà Giang</td>\n",
       "      <td>UBND thành phố</td>\n",
       "      <td>Trình tự, thủ tục cấp lại giấy phép xây dựng ...</td>\n",
       "      <td>1.\\tTrình tự, thủ tục thực hiện:\\n1.1\\tGửi (nộ...</td>\n",
       "      <td>Thủ tục xin cấp giấy phép xây dựng nhà ở riên...</td>\n",
       "      <td>3370/UBND-VP ngày 30/12/2024</td>\n",
       "      <td>NaN</td>\n",
       "    </tr>\n",
       "    <tr>\n",
       "      <th>1624</th>\n",
       "      <td>761.0</td>\n",
       "      <td>UBND thành phố Hà Giang</td>\n",
       "      <td>UBND thành phố</td>\n",
       "      <td>Trình tự, thủ tục xin cấp giấy phép xây dựng ...</td>\n",
       "      <td>1. Trình tự, thủ tục thực hiện:\\n1.1 Gửi (nộp)...</td>\n",
       "      <td>Thủ tục xin cấp giấy phép xây dựng nhà ở riên...</td>\n",
       "      <td>3370/UBND-VP ngày 30/12/2024</td>\n",
       "      <td>NaN</td>\n",
       "    </tr>\n",
       "    <tr>\n",
       "      <th>1625</th>\n",
       "      <td>762.0</td>\n",
       "      <td>UBND thành phố Hà Giang</td>\n",
       "      <td>UBND thành phố</td>\n",
       "      <td>Phạm vi tiếp nhận thủ tục hành chính tại Bộ ph...</td>\n",
       "      <td>Bộ phận Tiếp nhận và Trả kết quả (Bộ phận Một ...</td>\n",
       "      <td>NaN</td>\n",
       "      <td>3370/UBND-VP ngày 30/12/2024</td>\n",
       "      <td>NaN</td>\n",
       "    </tr>\n",
       "    <tr>\n",
       "      <th>1626</th>\n",
       "      <td>763.0</td>\n",
       "      <td>UBND thành phố Hà Giang</td>\n",
       "      <td>UBND thành phố</td>\n",
       "      <td>Tôi thực hiện nộp hồ sơ thủ tục hành chính về ...</td>\n",
       "      <td>Các tổ chức, cá nhân nộp hồ sơ thủ tục hành ch...</td>\n",
       "      <td>NaN</td>\n",
       "      <td>3370/UBND-VP ngày 30/12/2024</td>\n",
       "      <td>NaN</td>\n",
       "    </tr>\n",
       "  </tbody>\n",
       "</table>\n",
       "<p>1627 rows × 8 columns</p>\n",
       "</div>"
      ],
      "text/plain": [
       "        STT              Tên cơ quan      Tên đơn vị  \\\n",
       "0       1.0  Ban quản lý khu kinh tế             NaN   \n",
       "1       2.0  Ban quản lý khu kinh tế             NaN   \n",
       "2       3.0  Ban quản lý khu kinh tế             NaN   \n",
       "3       4.0  Ban quản lý khu kinh tế             NaN   \n",
       "4       5.0  Ban quản lý khu kinh tế             NaN   \n",
       "...     ...                      ...             ...   \n",
       "1622  759.0  UBND thành phố Hà Giang  UBND thành phố   \n",
       "1623  760.0  UBND thành phố Hà Giang  UBND thành phố   \n",
       "1624  761.0  UBND thành phố Hà Giang  UBND thành phố   \n",
       "1625  762.0  UBND thành phố Hà Giang  UBND thành phố   \n",
       "1626  763.0  UBND thành phố Hà Giang  UBND thành phố   \n",
       "\n",
       "                                                Câu hỏi  \\\n",
       "0     Đối tượng nào được thực hiện Thủ tục: Giao đất...   \n",
       "1     Phí lệ phí để thực hiện Thủ tục: Giao đất, cho...   \n",
       "2     Thời gian thực hiện Thủ tục: Giao đất, cho th...   \n",
       "3     Thời gian thực hiện Thủ tục: Thẩm định thiết ...   \n",
       "4     Văn bản nào quy định với phí, lệ phí Thẩm định...   \n",
       "...                                                 ...   \n",
       "1622  Trình tự, thủ tục điều chỉnh giấy phép xây dự...   \n",
       "1623  Trình tự, thủ tục cấp lại giấy phép xây dựng ...   \n",
       "1624  Trình tự, thủ tục xin cấp giấy phép xây dựng ...   \n",
       "1625  Phạm vi tiếp nhận thủ tục hành chính tại Bộ ph...   \n",
       "1626  Tôi thực hiện nộp hồ sơ thủ tục hành chính về ...   \n",
       "\n",
       "                                            Câu trả lời  \\\n",
       "0     Tổ chức, cơ sở tôn giáo, người Việt Nam định c...   \n",
       "1     Thủ tục HC không có phí, lệ phí (phí, lệ phí =...   \n",
       "2     Không quá 20 ngày làm việc kể từ ngày nhận đủ ...   \n",
       "3     Theo quy định của pháp luật:Không quá 40 ngày ...   \n",
       "4     Theo quy định tại Thông tư số 210/2016/TT-BTC ...   \n",
       "...                                                 ...   \n",
       "1622  1.\\tTrình tự, thủ tục thực hiện:\\n1.1\\tGửi (nộ...   \n",
       "1623  1.\\tTrình tự, thủ tục thực hiện:\\n1.1\\tGửi (nộ...   \n",
       "1624  1. Trình tự, thủ tục thực hiện:\\n1.1 Gửi (nộp)...   \n",
       "1625  Bộ phận Tiếp nhận và Trả kết quả (Bộ phận Một ...   \n",
       "1626  Các tổ chức, cá nhân nộp hồ sơ thủ tục hành ch...   \n",
       "\n",
       "                                               Tên TTHC  \\\n",
       "0                                  Mã thủ tục: 1.002253   \n",
       "1                                  Mã thủ tục: 1.002253   \n",
       "2     Mã thủ tục: 1.002253\\nTên thủ tục: Giao đất, c...   \n",
       "3     Mã thủ tục: 1.009973\\nTên thủ tục: Thẩm định t...   \n",
       "4     Mã thủ tục: 1.009973\\nTên thủ tục: Thẩm định t...   \n",
       "...                                                 ...   \n",
       "1622  Thủ tục xin cấp giấy phép xây dựng\\nnhà ở riê...   \n",
       "1623  Thủ tục xin cấp giấy phép xây dựng nhà ở riên...   \n",
       "1624  Thủ tục xin cấp giấy phép xây dựng nhà ở riên...   \n",
       "1625                                                NaN   \n",
       "1626                                                NaN   \n",
       "\n",
       "                   Số hiệu văn bản  Ghi Chú  \n",
       "0     17/BQLKKT-VP ngày 09/01/2024      NaN  \n",
       "1     17/BQLKKT-VP ngày 09/01/2024      NaN  \n",
       "2     17/BQLKKT-VP ngày 09/01/2024      NaN  \n",
       "3     17/BQLKKT-VP ngày 09/01/2024      NaN  \n",
       "4     17/BQLKKT-VP ngày 09/01/2024      NaN  \n",
       "...                            ...      ...  \n",
       "1622  3370/UBND-VP ngày 30/12/2024      NaN  \n",
       "1623  3370/UBND-VP ngày 30/12/2024      NaN  \n",
       "1624  3370/UBND-VP ngày 30/12/2024      NaN  \n",
       "1625  3370/UBND-VP ngày 30/12/2024      NaN  \n",
       "1626  3370/UBND-VP ngày 30/12/2024      NaN  \n",
       "\n",
       "[1627 rows x 8 columns]"
      ]
     },
     "execution_count": 58,
     "metadata": {},
     "output_type": "execute_result"
    }
   ],
   "source": [
    "df = pd.concat([df_sheet1, df_sheet2], ignore_index=True)\n",
    "df"
   ]
  },
  {
   "cell_type": "code",
   "execution_count": null,
   "id": "80ed77c0-c99a-4a9a-9778-71a9028e2255",
   "metadata": {},
   "outputs": [
    {
     "data": {
      "text/plain": [
       "1627"
      ]
     },
     "execution_count": 59,
     "metadata": {},
     "output_type": "execute_result"
    }
   ],
   "source": [
    "len(df[\"Câu hỏi\"])"
   ]
  },
  {
   "cell_type": "code",
   "execution_count": null,
   "id": "80675740-01bb-434b-a539-499e46b68389",
   "metadata": {},
   "outputs": [
    {
     "data": {
      "text/html": [
       "<div>\n",
       "<style scoped>\n",
       "    .dataframe tbody tr th:only-of-type {\n",
       "        vertical-align: middle;\n",
       "    }\n",
       "\n",
       "    .dataframe tbody tr th {\n",
       "        vertical-align: top;\n",
       "    }\n",
       "\n",
       "    .dataframe thead th {\n",
       "        text-align: right;\n",
       "    }\n",
       "</style>\n",
       "<table border=\"1\" class=\"dataframe\">\n",
       "  <thead>\n",
       "    <tr style=\"text-align: right;\">\n",
       "      <th></th>\n",
       "      <th>STT</th>\n",
       "      <th>Tên cơ quan</th>\n",
       "      <th>Tên đơn vị</th>\n",
       "      <th>Câu hỏi</th>\n",
       "      <th>Câu trả lời</th>\n",
       "      <th>Tên TTHC</th>\n",
       "      <th>Số hiệu văn bản</th>\n",
       "      <th>Ghi Chú</th>\n",
       "    </tr>\n",
       "  </thead>\n",
       "  <tbody>\n",
       "    <tr>\n",
       "      <th>0</th>\n",
       "      <td>705.0</td>\n",
       "      <td>Sở tư pháp</td>\n",
       "      <td>NaN</td>\n",
       "      <td>Chào anh/chị, tôi có ứng tuyển tại một công t...</td>\n",
       "      <td>Việc đề nghị cấp phiếu LLTP số 1 hay số 2 là d...</td>\n",
       "      <td>Cấp Phiếu lý lịch tư pháp cho công dân Việt Na...</td>\n",
       "      <td>39/STP-VP ngày 10/01/2024</td>\n",
       "      <td>NaN</td>\n",
       "    </tr>\n",
       "    <tr>\n",
       "      <th>1</th>\n",
       "      <td>499.0</td>\n",
       "      <td>UBND huyện Mèo Vạc</td>\n",
       "      <td>UBND cấp xã</td>\n",
       "      <td>1, Cho tôi hỏi Thủ tục tặng Giấy khen của Chủ ...</td>\n",
       "      <td>Bước 1. Cán bộ làm công tác thi đua, khen thưở...</td>\n",
       "      <td>Thủ tục tặng Giấy khen của Chủ tịch UBND cấp x...</td>\n",
       "      <td>29/BC-UBND ngày 11/01/2024</td>\n",
       "      <td>NaN</td>\n",
       "    </tr>\n",
       "    <tr>\n",
       "      <th>2</th>\n",
       "      <td>501.0</td>\n",
       "      <td>UBND huyện Mèo Vạc</td>\n",
       "      <td>UBND cấp xã</td>\n",
       "      <td>1, Cho tôi hỏi Thủ tục tặng Giấy khen của Chủ ...</td>\n",
       "      <td>Bước 1. Cán bộ làm công tác thi đua, khen thưở...</td>\n",
       "      <td>Thủ tục tặng Giấy khen của Chủ tịch UBND cấp x...</td>\n",
       "      <td>29/BC-UBND ngày 11/01/2024</td>\n",
       "      <td>NaN</td>\n",
       "    </tr>\n",
       "    <tr>\n",
       "      <th>3</th>\n",
       "      <td>497.0</td>\n",
       "      <td>UBND huyện Mèo Vạc</td>\n",
       "      <td>UBND cấp xã</td>\n",
       "      <td>1. Cho tôi hỏi Thủ tục giải quyết tố cáo tại c...</td>\n",
       "      <td>Bước 1: Thụ lý tố cáo\\nTrước khi thụ lý tố cáo...</td>\n",
       "      <td>Thủ tục giải quyết tố cáo tại cấp xã</td>\n",
       "      <td>29/BC-UBND ngày 11/01/2024</td>\n",
       "      <td>NaN</td>\n",
       "    </tr>\n",
       "    <tr>\n",
       "      <th>4</th>\n",
       "      <td>500.0</td>\n",
       "      <td>UBND huyện Mèo Vạc</td>\n",
       "      <td>UBND cấp xã</td>\n",
       "      <td>1. Cho tôi hỏi Thủ tục tặng Giấy khen của Chủ ...</td>\n",
       "      <td>Bước 1. Cán bộ làm công tác thi đua, khen thưở...</td>\n",
       "      <td>Thủ tục tặng Giấy khen của Chủ tịch UBND cấp x...</td>\n",
       "      <td>29/BC-UBND ngày 11/01/2024</td>\n",
       "      <td>NaN</td>\n",
       "    </tr>\n",
       "    <tr>\n",
       "      <th>...</th>\n",
       "      <td>...</td>\n",
       "      <td>...</td>\n",
       "      <td>...</td>\n",
       "      <td>...</td>\n",
       "      <td>...</td>\n",
       "      <td>...</td>\n",
       "      <td>...</td>\n",
       "      <td>...</td>\n",
       "    </tr>\n",
       "    <tr>\n",
       "      <th>1419</th>\n",
       "      <td>239.0</td>\n",
       "      <td>Sở Giáo dục và Đào tạo</td>\n",
       "      <td>NaN</td>\n",
       "      <td>Đối với học sinh đã được xét duyệt, trong các ...</td>\n",
       "      <td>Người học thuộc diện miễn, giảm học phí và hỗ ...</td>\n",
       "      <td>Đề nghị miễn giảm học phí, hỗ trợ chi phí học ...</td>\n",
       "      <td>37/SGDĐT-VP ngày 09/01/2024</td>\n",
       "      <td>NaN</td>\n",
       "    </tr>\n",
       "    <tr>\n",
       "      <th>1420</th>\n",
       "      <td>436.0</td>\n",
       "      <td>UBND huyện Mèo Vạc</td>\n",
       "      <td>Phòng Văn hóa và Thông tin</td>\n",
       "      <td>Đổi giấy chứng nhận đăng ký hoạt động của cơ s...</td>\n",
       "      <td>Cơ sở hỗ trợ nạn nhân bạo lực gia đình do các ...</td>\n",
       "      <td>Đổi Giấy chứng nhận đăng ký hoạt động của cơ s...</td>\n",
       "      <td>29/BC-UBND ngày 11/01/2024</td>\n",
       "      <td>NaN</td>\n",
       "    </tr>\n",
       "    <tr>\n",
       "      <th>1421</th>\n",
       "      <td>437.0</td>\n",
       "      <td>UBND huyện Mèo Vạc</td>\n",
       "      <td>Phòng Văn hóa và Thông tin</td>\n",
       "      <td>Đổi giấy chứng nhận đăng ký hoạt động của cơ s...</td>\n",
       "      <td>Cơ sở tư vấn về phòng, chống bạo lực gia đình ...</td>\n",
       "      <td>Đổi Giấy chứng nhận đăng ký hoạt động của cơ s...</td>\n",
       "      <td>29/BC-UBND ngày 11/01/2024</td>\n",
       "      <td>NaN</td>\n",
       "    </tr>\n",
       "    <tr>\n",
       "      <th>1422</th>\n",
       "      <td>573.0</td>\n",
       "      <td>Sở Nội vụ</td>\n",
       "      <td>NaN</td>\n",
       "      <td>Đổi tên hội cần hoàn thiện thành phần hồ sơ nào?</td>\n",
       "      <td>Hồ sơ đổi tên hội theo quy định tại Khoản 2 Đi...</td>\n",
       "      <td>2001678</td>\n",
       "      <td>102/SNV-VP ngày 30/01/2024</td>\n",
       "      <td>NaN</td>\n",
       "    </tr>\n",
       "    <tr>\n",
       "      <th>1423</th>\n",
       "      <td>518.0</td>\n",
       "      <td>Sở Lao động, Thương binh và Xã hội</td>\n",
       "      <td>NaN</td>\n",
       "      <td>Ở trên địa bàn tỉnh Hà Giang, lao động người n...</td>\n",
       "      <td>Người nước ngoài khám sức khỏe tại Bệnh Viện đ...</td>\n",
       "      <td>Mã thủ tục: 2.000205\\nTên thủ tục: Cấp giấy ph...</td>\n",
       "      <td>70/LĐTBXH-VP ngày 15/01/2024</td>\n",
       "      <td>NaN</td>\n",
       "    </tr>\n",
       "  </tbody>\n",
       "</table>\n",
       "<p>1424 rows × 8 columns</p>\n",
       "</div>"
      ],
      "text/plain": [
       "        STT                         Tên cơ quan                  Tên đơn vị  \\\n",
       "0     705.0                          Sở tư pháp                         NaN   \n",
       "1     499.0                  UBND huyện Mèo Vạc                 UBND cấp xã   \n",
       "2     501.0                  UBND huyện Mèo Vạc                 UBND cấp xã   \n",
       "3     497.0                  UBND huyện Mèo Vạc                 UBND cấp xã   \n",
       "4     500.0                  UBND huyện Mèo Vạc                 UBND cấp xã   \n",
       "...     ...                                 ...                         ...   \n",
       "1419  239.0              Sở Giáo dục và Đào tạo                         NaN   \n",
       "1420  436.0                  UBND huyện Mèo Vạc  Phòng Văn hóa và Thông tin   \n",
       "1421  437.0                  UBND huyện Mèo Vạc  Phòng Văn hóa và Thông tin   \n",
       "1422  573.0                           Sở Nội vụ                         NaN   \n",
       "1423  518.0  Sở Lao động, Thương binh và Xã hội                         NaN   \n",
       "\n",
       "                                                Câu hỏi  \\\n",
       "0      Chào anh/chị, tôi có ứng tuyển tại một công t...   \n",
       "1     1, Cho tôi hỏi Thủ tục tặng Giấy khen của Chủ ...   \n",
       "2     1, Cho tôi hỏi Thủ tục tặng Giấy khen của Chủ ...   \n",
       "3     1. Cho tôi hỏi Thủ tục giải quyết tố cáo tại c...   \n",
       "4     1. Cho tôi hỏi Thủ tục tặng Giấy khen của Chủ ...   \n",
       "...                                                 ...   \n",
       "1419  Đối với học sinh đã được xét duyệt, trong các ...   \n",
       "1420  Đổi giấy chứng nhận đăng ký hoạt động của cơ s...   \n",
       "1421  Đổi giấy chứng nhận đăng ký hoạt động của cơ s...   \n",
       "1422   Đổi tên hội cần hoàn thiện thành phần hồ sơ nào?   \n",
       "1423  Ở trên địa bàn tỉnh Hà Giang, lao động người n...   \n",
       "\n",
       "                                            Câu trả lời  \\\n",
       "0     Việc đề nghị cấp phiếu LLTP số 1 hay số 2 là d...   \n",
       "1     Bước 1. Cán bộ làm công tác thi đua, khen thưở...   \n",
       "2     Bước 1. Cán bộ làm công tác thi đua, khen thưở...   \n",
       "3     Bước 1: Thụ lý tố cáo\\nTrước khi thụ lý tố cáo...   \n",
       "4     Bước 1. Cán bộ làm công tác thi đua, khen thưở...   \n",
       "...                                                 ...   \n",
       "1419  Người học thuộc diện miễn, giảm học phí và hỗ ...   \n",
       "1420  Cơ sở hỗ trợ nạn nhân bạo lực gia đình do các ...   \n",
       "1421  Cơ sở tư vấn về phòng, chống bạo lực gia đình ...   \n",
       "1422  Hồ sơ đổi tên hội theo quy định tại Khoản 2 Đi...   \n",
       "1423  Người nước ngoài khám sức khỏe tại Bệnh Viện đ...   \n",
       "\n",
       "                                               Tên TTHC  \\\n",
       "0     Cấp Phiếu lý lịch tư pháp cho công dân Việt Na...   \n",
       "1     Thủ tục tặng Giấy khen của Chủ tịch UBND cấp x...   \n",
       "2     Thủ tục tặng Giấy khen của Chủ tịch UBND cấp x...   \n",
       "3                  Thủ tục giải quyết tố cáo tại cấp xã   \n",
       "4     Thủ tục tặng Giấy khen của Chủ tịch UBND cấp x...   \n",
       "...                                                 ...   \n",
       "1419  Đề nghị miễn giảm học phí, hỗ trợ chi phí học ...   \n",
       "1420  Đổi Giấy chứng nhận đăng ký hoạt động của cơ s...   \n",
       "1421  Đổi Giấy chứng nhận đăng ký hoạt động của cơ s...   \n",
       "1422                                            2001678   \n",
       "1423  Mã thủ tục: 2.000205\\nTên thủ tục: Cấp giấy ph...   \n",
       "\n",
       "                   Số hiệu văn bản  Ghi Chú  \n",
       "0        39/STP-VP ngày 10/01/2024      NaN  \n",
       "1       29/BC-UBND ngày 11/01/2024      NaN  \n",
       "2       29/BC-UBND ngày 11/01/2024      NaN  \n",
       "3       29/BC-UBND ngày 11/01/2024      NaN  \n",
       "4       29/BC-UBND ngày 11/01/2024      NaN  \n",
       "...                            ...      ...  \n",
       "1419   37/SGDĐT-VP ngày 09/01/2024      NaN  \n",
       "1420    29/BC-UBND ngày 11/01/2024      NaN  \n",
       "1421    29/BC-UBND ngày 11/01/2024      NaN  \n",
       "1422    102/SNV-VP ngày 30/01/2024      NaN  \n",
       "1423  70/LĐTBXH-VP ngày 15/01/2024      NaN  \n",
       "\n",
       "[1424 rows x 8 columns]"
      ]
     },
     "execution_count": 60,
     "metadata": {},
     "output_type": "execute_result"
    }
   ],
   "source": [
    "# Giữ lại câu trả lời dài nhất cho mỗi câu hỏi\n",
    "df = df.loc[df.groupby('Câu hỏi')['Câu trả lời'].apply(lambda x: x.str.len().idxmax())].reset_index(drop=True)\n",
    "df"
   ]
  },
  {
   "cell_type": "code",
   "execution_count": null,
   "id": "cbd3722e-354e-4ee8-87d0-7f2dcdba5098",
   "metadata": {},
   "outputs": [],
   "source": [
    "from llama_index.core import Document\n",
    "\n",
    "documents_dachuanhoa = [\n",
    "    Document(\n",
    "        text= ', '.join([\n",
    "            row[\"Câu hỏi\"],\n",
    "    ]),\n",
    "        metadata={\n",
    "            'code': row['STT'],\n",
    "            'agencyName': row['Tên cơ quan'],\n",
    "            'agencyLevel': row['Tên đơn vị'],\n",
    "            'answer': row['Câu trả lời'],\n",
    "            'name': row['Tên TTHC'],\n",
    "            'documentNumber': row['Ghi Chú'],\n",
    "        }\n",
    "    )\n",
    "    for _, row in df.iterrows() \n",
    "]"
   ]
  },
  {
   "cell_type": "code",
   "execution_count": null,
   "id": "cf4a2ea8-ee16-49d9-b848-e831a0b13c11",
   "metadata": {},
   "outputs": [
    {
     "data": {
      "text/plain": [
       "1424"
      ]
     },
     "execution_count": 62,
     "metadata": {},
     "output_type": "execute_result"
    }
   ],
   "source": [
    "len(documents_dachuanhoa)"
   ]
  },
  {
   "cell_type": "markdown",
   "id": "0bf1a1b6-027d-4856-b65f-b4f5ff5296e8",
   "metadata": {},
   "source": [
    "### Vector Stores"
   ]
  },
  {
   "cell_type": "markdown",
   "id": "e2ee22f4-6b40-4de8-9e3b-9f39dc80bfed",
   "metadata": {},
   "source": [
    "#### Creating a Weaviate Client"
   ]
  },
  {
   "cell_type": "code",
   "execution_count": null,
   "id": "c2e26a50-4923-4925-a129-58dc105a6f46",
   "metadata": {},
   "outputs": [],
   "source": [
    "# %pip install llama-index-vector-stores-weaviate"
   ]
  },
  {
   "cell_type": "code",
   "execution_count": null,
   "id": "1342ee98-7bd4-4c69-a28f-07b4883fa9cc",
   "metadata": {},
   "outputs": [],
   "source": [
    "# pip install -U weaviate-client"
   ]
  },
  {
   "cell_type": "code",
   "execution_count": null,
   "id": "9ae2aa1d-3419-4f33-a917-869b2dfaee7d",
   "metadata": {},
   "outputs": [],
   "source": [
    "import logging\n",
    "import sys\n",
    "\n",
    "logging.basicConfig(stream=sys.stdout, level=logging.INFO)\n",
    "logging.getLogger().addHandler(logging.StreamHandler(stream=sys.stdout))"
   ]
  },
  {
   "cell_type": "code",
   "execution_count": null,
   "id": "6bb61d3d-43a8-4aec-9bfe-7c0cc60805df",
   "metadata": {},
   "outputs": [],
   "source": [
    "import weaviate"
   ]
  },
  {
   "cell_type": "code",
   "execution_count": 73,
   "id": "dd2fd828-7e21-448f-8322-add709a2d514",
   "metadata": {},
   "outputs": [],
   "source": [
    "# import weaviate\n",
    "# import os\n",
    "  \n",
    "# Connect to a WCS instance\n",
    "# client = weaviate.connect_to_wcs(\n",
    "#     cluster_url=\"cluster_url\",\n",
    "#     auth_credentials=weaviate.auth.AuthApiKey(\"API_KEY\"))\n"
   ]
  },
  {
   "cell_type": "code",
   "execution_count": null,
   "id": "85f9bfe7-d0f5-4ed0-b3ac-bcc537e8f1a0",
   "metadata": {},
   "outputs": [
    {
     "name": "stdout",
     "output_type": "stream",
     "text": [
      "INFO:httpx:HTTP Request: GET http://localhost:8080/v1/.well-known/openid-configuration \"HTTP/1.1 404 Not Found\"\n",
      "HTTP Request: GET http://localhost:8080/v1/.well-known/openid-configuration \"HTTP/1.1 404 Not Found\"\n",
      "INFO:httpx:HTTP Request: GET http://localhost:8080/v1/meta \"HTTP/1.1 200 OK\"\n",
      "HTTP Request: GET http://localhost:8080/v1/meta \"HTTP/1.1 200 OK\"\n",
      "INFO:httpx:HTTP Request: GET https://pypi.org/pypi/weaviate-client/json \"HTTP/1.1 200 OK\"\n",
      "HTTP Request: GET https://pypi.org/pypi/weaviate-client/json \"HTTP/1.1 200 OK\"\n"
     ]
    }
   ],
   "source": [
    "# local\n",
    "client = weaviate.connect_to_local(\n",
    ")"
   ]
  },
  {
   "cell_type": "code",
   "execution_count": 9,
   "id": "7429c44d-e5dd-4a01-91fe-80f7d30f1370",
   "metadata": {},
   "outputs": [
    {
     "name": "stdout",
     "output_type": "stream",
     "text": [
      "INFO:httpx:HTTP Request: GET http://localhost:8080/v1/.well-known/ready \"HTTP/1.1 200 OK\"\n",
      "HTTP Request: GET http://localhost:8080/v1/.well-known/ready \"HTTP/1.1 200 OK\"\n",
      "True\n"
     ]
    }
   ],
   "source": [
    "print(client.is_ready())"
   ]
  },
  {
   "cell_type": "markdown",
   "id": "e7d9bb45-61ec-475d-b174-6519db26540d",
   "metadata": {},
   "source": [
    "### Indexing"
   ]
  },
  {
   "cell_type": "code",
   "execution_count": 13,
   "id": "1926e928-9290-4903-a253-cbc353e8b70f",
   "metadata": {},
   "outputs": [],
   "source": [
    "from llama_index.core import VectorStoreIndex, SimpleDirectoryReader\n",
    "from llama_index.vector_stores.weaviate import WeaviateVectorStore\n",
    "from IPython.display import Markdown, display"
   ]
  },
  {
   "cell_type": "code",
   "execution_count": 14,
   "id": "c239e05d-c4f8-4abc-b752-2c60cac24d76",
   "metadata": {},
   "outputs": [],
   "source": [
    "from llama_index.core import StorageContext"
   ]
  },
  {
   "cell_type": "code",
   "execution_count": 77,
   "id": "44405708-14d0-4076-92fd-7dd5462e0bd3",
   "metadata": {},
   "outputs": [
    {
     "name": "stdout",
     "output_type": "stream",
     "text": [
      "INFO:sentence_transformers.SentenceTransformer:Load pretrained SentenceTransformer: I:/Hoc/Public Administration/vietnamese-bi-encoder-fine-tuning-for-law-chatbot_epoch15\n",
      "Load pretrained SentenceTransformer: I:/Hoc/Public Administration/vietnamese-bi-encoder-fine-tuning-for-law-chatbot_epoch15\n",
      "Load pretrained SentenceTransformer: I:/Hoc/Public Administration/vietnamese-bi-encoder-fine-tuning-for-law-chatbot_epoch15\n",
      "INFO:sentence_transformers.SentenceTransformer:2 prompts are loaded, with the keys: ['query', 'text']\n",
      "2 prompts are loaded, with the keys: ['query', 'text']\n",
      "2 prompts are loaded, with the keys: ['query', 'text']\n"
     ]
    }
   ],
   "source": [
    "from llama_index.embeddings.huggingface import HuggingFaceEmbedding\n",
    "from llama_index.core import Settings\n",
    "\n",
    "embed_model_weaviate = HuggingFaceEmbedding(\n",
    "    model_name=\"maiduchuy321/vietnamese-bi-encoder-fine-tuning-for-law-chatbot\",device=\"cuda\",embed_batch_size=10\n",
    ")"
   ]
  },
  {
   "cell_type": "code",
   "execution_count": 78,
   "id": "a2c9b7da-be6c-4373-86e2-a0acda95515e",
   "metadata": {},
   "outputs": [
    {
     "name": "stdout",
     "output_type": "stream",
     "text": [
      "INFO:httpx:HTTP Request: DELETE http://localhost:8080/v1/schema/HCC_QuestionAndAnswer \"HTTP/1.1 200 OK\"\n",
      "HTTP Request: DELETE http://localhost:8080/v1/schema/HCC_QuestionAndAnswer \"HTTP/1.1 200 OK\"\n",
      "HTTP Request: DELETE http://localhost:8080/v1/schema/HCC_QuestionAndAnswer \"HTTP/1.1 200 OK\"\n",
      "INFO:httpx:HTTP Request: GET http://localhost:8080/v1/schema/HCC_QuestionAndAnswer \"HTTP/1.1 404 Not Found\"\n",
      "HTTP Request: GET http://localhost:8080/v1/schema/HCC_QuestionAndAnswer \"HTTP/1.1 404 Not Found\"\n",
      "HTTP Request: GET http://localhost:8080/v1/schema/HCC_QuestionAndAnswer \"HTTP/1.1 404 Not Found\"\n",
      "INFO:httpx:HTTP Request: POST http://localhost:8080/v1/schema \"HTTP/1.1 200 OK\"\n",
      "HTTP Request: POST http://localhost:8080/v1/schema \"HTTP/1.1 200 OK\"\n",
      "HTTP Request: POST http://localhost:8080/v1/schema \"HTTP/1.1 200 OK\"\n"
     ]
    },
    {
     "name": "stderr",
     "output_type": "stream",
     "text": [
      "Batches: 100%|██████████| 1/1 [00:00<00:00,  3.31it/s]\n",
      "Batches: 100%|██████████| 1/1 [00:00<00:00, 13.08it/s]\n",
      "Batches: 100%|██████████| 1/1 [00:00<00:00, 12.95it/s]\n",
      "Batches: 100%|██████████| 1/1 [00:00<00:00, 13.27it/s]\n",
      "Batches: 100%|██████████| 1/1 [00:00<00:00, 13.60it/s]\n",
      "Batches: 100%|██████████| 1/1 [00:00<00:00, 12.60it/s]\n",
      "Batches: 100%|██████████| 1/1 [00:00<00:00, 13.63it/s]\n",
      "Batches: 100%|██████████| 1/1 [00:00<00:00, 14.59it/s]\n",
      "Batches: 100%|██████████| 1/1 [00:00<00:00, 14.39it/s]\n",
      "Batches: 100%|██████████| 1/1 [00:00<00:00, 13.37it/s]\n",
      "Batches: 100%|██████████| 1/1 [00:00<00:00, 14.01it/s]\n",
      "Batches: 100%|██████████| 1/1 [00:00<00:00, 13.74it/s]\n",
      "Batches: 100%|██████████| 1/1 [00:00<00:00, 13.28it/s]\n",
      "Batches: 100%|██████████| 1/1 [00:00<00:00, 13.52it/s]\n",
      "Batches: 100%|██████████| 1/1 [00:00<00:00, 12.55it/s]\n",
      "Batches: 100%|██████████| 1/1 [00:00<00:00, 13.41it/s]\n",
      "Batches: 100%|██████████| 1/1 [00:00<00:00, 12.97it/s]\n",
      "Batches: 100%|██████████| 1/1 [00:00<00:00, 13.76it/s]\n",
      "Batches: 100%|██████████| 1/1 [00:00<00:00, 12.99it/s]\n",
      "Batches: 100%|██████████| 1/1 [00:00<00:00, 13.19it/s]\n",
      "Batches: 100%|██████████| 1/1 [00:00<00:00, 13.14it/s]\n",
      "Batches: 100%|██████████| 1/1 [00:00<00:00, 13.89it/s]\n",
      "Batches: 100%|██████████| 1/1 [00:00<00:00, 14.06it/s]\n",
      "Batches: 100%|██████████| 1/1 [00:00<00:00, 13.30it/s]\n",
      "Batches: 100%|██████████| 1/1 [00:00<00:00, 13.57it/s]\n",
      "Batches: 100%|██████████| 1/1 [00:00<00:00, 13.87it/s]\n",
      "Batches: 100%|██████████| 1/1 [00:00<00:00, 11.63it/s]\n",
      "Batches: 100%|██████████| 1/1 [00:00<00:00, 14.13it/s]\n",
      "Batches: 100%|██████████| 1/1 [00:00<00:00, 13.96it/s]\n",
      "Batches: 100%|██████████| 1/1 [00:00<00:00, 12.77it/s]\n",
      "Batches: 100%|██████████| 1/1 [00:00<00:00, 14.17it/s]\n",
      "Batches: 100%|██████████| 1/1 [00:00<00:00, 13.60it/s]\n",
      "Batches: 100%|██████████| 1/1 [00:00<00:00, 12.47it/s]\n",
      "Batches: 100%|██████████| 1/1 [00:00<00:00, 12.77it/s]\n",
      "Batches: 100%|██████████| 1/1 [00:00<00:00, 13.30it/s]\n",
      "Batches: 100%|██████████| 1/1 [00:00<00:00, 13.32it/s]\n",
      "Batches: 100%|██████████| 1/1 [00:00<00:00, 13.26it/s]\n",
      "Batches: 100%|██████████| 1/1 [00:00<00:00, 14.17it/s]\n",
      "Batches: 100%|██████████| 1/1 [00:00<00:00, 13.68it/s]\n",
      "Batches: 100%|██████████| 1/1 [00:00<00:00, 13.36it/s]\n",
      "Batches: 100%|██████████| 1/1 [00:00<00:00, 13.96it/s]\n",
      "Batches: 100%|██████████| 1/1 [00:00<00:00, 13.52it/s]\n",
      "Batches: 100%|██████████| 1/1 [00:00<00:00, 13.74it/s]\n",
      "Batches: 100%|██████████| 1/1 [00:00<00:00, 13.76it/s]\n",
      "Batches: 100%|██████████| 1/1 [00:00<00:00, 13.60it/s]\n",
      "Batches: 100%|██████████| 1/1 [00:00<00:00, 12.79it/s]\n",
      "Batches: 100%|██████████| 1/1 [00:00<00:00, 13.43it/s]\n",
      "Batches: 100%|██████████| 1/1 [00:00<00:00, 13.72it/s]\n",
      "Batches: 100%|██████████| 1/1 [00:00<00:00, 13.61it/s]\n",
      "Batches: 100%|██████████| 1/1 [00:00<00:00, 12.83it/s]\n",
      "Batches: 100%|██████████| 1/1 [00:00<00:00, 13.52it/s]\n",
      "Batches: 100%|██████████| 1/1 [00:00<00:00, 12.70it/s]\n",
      "Batches: 100%|██████████| 1/1 [00:00<00:00, 12.04it/s]\n",
      "Batches: 100%|██████████| 1/1 [00:00<00:00, 13.32it/s]\n",
      "Batches: 100%|██████████| 1/1 [00:00<00:00, 13.12it/s]\n",
      "Batches: 100%|██████████| 1/1 [00:00<00:00, 13.06it/s]\n",
      "Batches: 100%|██████████| 1/1 [00:00<00:00, 13.44it/s]\n",
      "Batches: 100%|██████████| 1/1 [00:00<00:00, 12.92it/s]\n",
      "Batches: 100%|██████████| 1/1 [00:00<00:00, 13.35it/s]\n",
      "Batches: 100%|██████████| 1/1 [00:00<00:00, 17.02it/s]\n",
      "Batches: 100%|██████████| 1/1 [00:00<00:00, 13.33it/s]\n",
      "Batches: 100%|██████████| 1/1 [00:00<00:00, 12.65it/s]\n",
      "Batches: 100%|██████████| 1/1 [00:00<00:00, 12.94it/s]\n",
      "Batches: 100%|██████████| 1/1 [00:00<00:00, 13.47it/s]\n",
      "Batches: 100%|██████████| 1/1 [00:00<00:00, 12.86it/s]\n",
      "Batches: 100%|██████████| 1/1 [00:00<00:00, 12.61it/s]\n",
      "Batches: 100%|██████████| 1/1 [00:00<00:00, 13.88it/s]\n",
      "Batches: 100%|██████████| 1/1 [00:00<00:00, 14.13it/s]\n",
      "Batches: 100%|██████████| 1/1 [00:00<00:00, 13.80it/s]\n",
      "Batches: 100%|██████████| 1/1 [00:00<00:00, 13.21it/s]\n",
      "Batches: 100%|██████████| 1/1 [00:00<00:00, 12.76it/s]\n",
      "Batches: 100%|██████████| 1/1 [00:00<00:00, 13.14it/s]\n",
      "Batches: 100%|██████████| 1/1 [00:00<00:00, 14.00it/s]\n",
      "Batches: 100%|██████████| 1/1 [00:00<00:00, 19.39it/s]\n",
      "Batches: 100%|██████████| 1/1 [00:00<00:00, 14.02it/s]\n",
      "Batches: 100%|██████████| 1/1 [00:00<00:00, 13.59it/s]\n",
      "Batches: 100%|██████████| 1/1 [00:00<00:00, 18.68it/s]\n",
      "Batches: 100%|██████████| 1/1 [00:00<00:00, 13.64it/s]\n",
      "Batches: 100%|██████████| 1/1 [00:00<00:00, 17.04it/s]\n",
      "Batches: 100%|██████████| 1/1 [00:00<00:00, 14.25it/s]\n",
      "Batches: 100%|██████████| 1/1 [00:00<00:00, 14.59it/s]\n",
      "Batches: 100%|██████████| 1/1 [00:00<00:00, 16.96it/s]\n",
      "Batches: 100%|██████████| 1/1 [00:00<00:00, 16.08it/s]\n",
      "Batches: 100%|██████████| 1/1 [00:00<00:00, 20.29it/s]\n",
      "Batches: 100%|██████████| 1/1 [00:00<00:00, 14.05it/s]\n",
      "Batches: 100%|██████████| 1/1 [00:00<00:00, 17.68it/s]\n",
      "Batches: 100%|██████████| 1/1 [00:00<00:00, 20.94it/s]\n",
      "Batches: 100%|██████████| 1/1 [00:00<00:00, 15.36it/s]\n",
      "Batches: 100%|██████████| 1/1 [00:00<00:00, 13.76it/s]\n",
      "Batches: 100%|██████████| 1/1 [00:00<00:00, 14.25it/s]\n",
      "Batches: 100%|██████████| 1/1 [00:00<00:00, 13.13it/s]\n",
      "Batches: 100%|██████████| 1/1 [00:00<00:00, 12.41it/s]\n",
      "Batches: 100%|██████████| 1/1 [00:00<00:00, 12.98it/s]\n",
      "Batches: 100%|██████████| 1/1 [00:00<00:00, 13.62it/s]\n",
      "Batches: 100%|██████████| 1/1 [00:00<00:00, 13.14it/s]\n",
      "Batches: 100%|██████████| 1/1 [00:00<00:00, 13.47it/s]\n",
      "Batches: 100%|██████████| 1/1 [00:00<00:00, 13.40it/s]\n",
      "Batches: 100%|██████████| 1/1 [00:00<00:00, 13.89it/s]\n",
      "Batches: 100%|██████████| 1/1 [00:00<00:00, 12.63it/s]\n",
      "Batches: 100%|██████████| 1/1 [00:00<00:00, 13.81it/s]\n",
      "Batches: 100%|██████████| 1/1 [00:00<00:00, 12.16it/s]\n",
      "Batches: 100%|██████████| 1/1 [00:00<00:00, 14.05it/s]\n",
      "Batches: 100%|██████████| 1/1 [00:00<00:00, 13.60it/s]\n",
      "Batches: 100%|██████████| 1/1 [00:00<00:00, 13.64it/s]\n",
      "Batches: 100%|██████████| 1/1 [00:00<00:00, 13.46it/s]\n",
      "Batches: 100%|██████████| 1/1 [00:00<00:00, 13.73it/s]\n",
      "Batches: 100%|██████████| 1/1 [00:00<00:00, 13.26it/s]\n",
      "Batches: 100%|██████████| 1/1 [00:00<00:00, 13.77it/s]\n",
      "Batches: 100%|██████████| 1/1 [00:00<00:00, 13.41it/s]\n",
      "Batches: 100%|██████████| 1/1 [00:00<00:00, 12.83it/s]\n",
      "Batches: 100%|██████████| 1/1 [00:00<00:00, 12.77it/s]\n",
      "Batches: 100%|██████████| 1/1 [00:00<00:00, 13.44it/s]\n",
      "Batches: 100%|██████████| 1/1 [00:00<00:00, 13.17it/s]\n",
      "Batches: 100%|██████████| 1/1 [00:00<00:00, 13.79it/s]\n",
      "Batches: 100%|██████████| 1/1 [00:00<00:00, 13.04it/s]\n",
      "Batches: 100%|██████████| 1/1 [00:00<00:00, 13.35it/s]\n",
      "Batches: 100%|██████████| 1/1 [00:00<00:00, 12.75it/s]\n",
      "Batches: 100%|██████████| 1/1 [00:00<00:00, 13.04it/s]\n",
      "Batches: 100%|██████████| 1/1 [00:00<00:00, 12.88it/s]\n",
      "Batches: 100%|██████████| 1/1 [00:00<00:00, 12.63it/s]\n",
      "Batches: 100%|██████████| 1/1 [00:00<00:00, 13.52it/s]\n",
      "Batches: 100%|██████████| 1/1 [00:00<00:00, 13.42it/s]\n",
      "Batches: 100%|██████████| 1/1 [00:00<00:00, 13.41it/s]\n",
      "Batches: 100%|██████████| 1/1 [00:00<00:00, 13.60it/s]\n",
      "Batches: 100%|██████████| 1/1 [00:00<00:00, 13.21it/s]\n",
      "Batches: 100%|██████████| 1/1 [00:00<00:00, 13.04it/s]\n",
      "Batches: 100%|██████████| 1/1 [00:00<00:00, 13.39it/s]\n",
      "Batches: 100%|██████████| 1/1 [00:00<00:00, 14.01it/s]\n",
      "Batches: 100%|██████████| 1/1 [00:00<00:00, 13.86it/s]\n",
      "Batches: 100%|██████████| 1/1 [00:00<00:00, 14.06it/s]\n",
      "Batches: 100%|██████████| 1/1 [00:00<00:00, 12.09it/s]\n",
      "Batches: 100%|██████████| 1/1 [00:00<00:00, 12.41it/s]\n",
      "Batches: 100%|██████████| 1/1 [00:00<00:00, 13.31it/s]\n",
      "Batches: 100%|██████████| 1/1 [00:00<00:00, 14.00it/s]\n",
      "Batches: 100%|██████████| 1/1 [00:00<00:00, 13.56it/s]\n",
      "Batches: 100%|██████████| 1/1 [00:00<00:00, 13.31it/s]\n",
      "Batches: 100%|██████████| 1/1 [00:00<00:00, 13.53it/s]\n",
      "Batches: 100%|██████████| 1/1 [00:00<00:00, 12.38it/s]\n",
      "Batches: 100%|██████████| 1/1 [00:00<00:00, 13.01it/s]\n",
      "Batches: 100%|██████████| 1/1 [00:00<00:00, 12.74it/s]\n",
      "Batches: 100%|██████████| 1/1 [00:00<00:00, 12.74it/s]\n",
      "Batches: 100%|██████████| 1/1 [00:00<00:00, 13.85it/s]\n",
      "Batches: 100%|██████████| 1/1 [00:00<00:00, 30.71it/s]\n"
     ]
    },
    {
     "name": "stdout",
     "output_type": "stream",
     "text": [
      "INFO:httpx:HTTP Request: GET http://localhost:8080/v1/schema \"HTTP/1.1 200 OK\"\n",
      "HTTP Request: GET http://localhost:8080/v1/schema \"HTTP/1.1 200 OK\"\n",
      "HTTP Request: GET http://localhost:8080/v1/schema \"HTTP/1.1 200 OK\"\n",
      "INFO:httpx:HTTP Request: GET http://localhost:8080/v1/nodes \"HTTP/1.1 200 OK\"\n",
      "HTTP Request: GET http://localhost:8080/v1/nodes \"HTTP/1.1 200 OK\"\n",
      "HTTP Request: GET http://localhost:8080/v1/nodes \"HTTP/1.1 200 OK\"\n",
      "INFO:httpx:HTTP Request: GET http://localhost:8080/v1/nodes \"HTTP/1.1 200 OK\"\n",
      "HTTP Request: GET http://localhost:8080/v1/nodes \"HTTP/1.1 200 OK\"\n",
      "HTTP Request: GET http://localhost:8080/v1/nodes \"HTTP/1.1 200 OK\"\n",
      "INFO:httpx:HTTP Request: GET http://localhost:8080/v1/nodes \"HTTP/1.1 200 OK\"\n",
      "HTTP Request: GET http://localhost:8080/v1/nodes \"HTTP/1.1 200 OK\"\n",
      "HTTP Request: GET http://localhost:8080/v1/nodes \"HTTP/1.1 200 OK\"\n"
     ]
    }
   ],
   "source": [
    "client.collections.delete(\"HCC_QuestionAndAnswer\")  # Replace with your collection name\n",
    "\n",
    "vector_store_HCC = WeaviateVectorStore(\n",
    "    weaviate_client=client, index_name=\"HCC_QuestionAndAnswer\", tenant=\"HCC_QuestionAndAnswer\"\n",
    ")\n",
    "storage_context_HCC = StorageContext.from_defaults(vector_store=vector_store_HCC)\n",
    "\n",
    "index_HCC = VectorStoreIndex(\n",
    "    documents_dachuanhoa, embed_model=embed_model_weaviate, storage_context=storage_context_HCC\n",
    ")"
   ]
  },
  {
   "cell_type": "markdown",
   "id": "1051724d-ad4e-4ca6-bbf2-a12531b58249",
   "metadata": {},
   "source": [
    "### Loading the index"
   ]
  },
  {
   "cell_type": "code",
   "execution_count": 68,
   "id": "55a93ee9-4a1a-4d1a-b39b-f4c05c69a936",
   "metadata": {},
   "outputs": [
    {
     "name": "stdout",
     "output_type": "stream",
     "text": [
      "HTTP Request: GET http://localhost:8080/v1/schema/HCC_QuestionAndAnswer \"HTTP/1.1 200 OK\"\n"
     ]
    }
   ],
   "source": [
    "from llama_index.core import VectorStoreIndex\n",
    "from llama_index.vector_stores.weaviate import WeaviateVectorStore\n",
    "from IPython.display import Markdown, display\n",
    "\n",
    "vector_store = WeaviateVectorStore(\n",
    "    weaviate_client=client, index_name=\"HCC_QuestionAndAnswer\"\n",
    ")\n",
    "\n",
    "loaded_index = VectorStoreIndex.from_vector_store(vector_store)\n",
    "retriever_hybrid = loaded_index.as_retriever(\n",
    "    vector_store_query_mode=\"hybrid\",\n",
    "    similarity_top_k=3,\n",
    "    alpha=0.75 #very similar to vector search\n",
    "    )"
   ]
  },
  {
   "cell_type": "markdown",
   "id": "679e8047-8faf-4174-ad55-0f02414a25a7",
   "metadata": {
    "jp-MarkdownHeadingCollapsed": true
   },
   "source": [
    "#### Query index"
   ]
  },
  {
   "cell_type": "code",
   "execution_count": 86,
   "id": "43feabef-6013-46f0-9a1d-7f100f4a0e6c",
   "metadata": {},
   "outputs": [],
   "source": [
    "query = \"Đăng ký kết hôn bao nhiêu ngày sẽ có kết quả?\""
   ]
  },
  {
   "cell_type": "code",
   "execution_count": 92,
   "id": "c12191df-338d-466c-adbc-c10c334e9c3d",
   "metadata": {},
   "outputs": [],
   "source": [
    "retriever = loaded_index.as_retriever(\n",
    "    vector_store_query_mode=\"hybrid\",\n",
    "    similarity_top_k=3,\n",
    "    alpha=0 #very similar to vector search\n",
    "    )"
   ]
  },
  {
   "cell_type": "code",
   "execution_count": 93,
   "id": "345a8ee2-d7bc-446e-8f46-814bfc9050e9",
   "metadata": {},
   "outputs": [
    {
     "name": "stderr",
     "output_type": "stream",
     "text": [
      "Batches: 100%|██████████| 1/1 [00:00<00:00, 15.11it/s]"
     ]
    },
    {
     "name": "stdout",
     "output_type": "stream",
     "text": [
      "INFO:httpx:HTTP Request: GET http://localhost:8080/v1/schema/HCC_QuestionAndAnswer \"HTTP/1.1 200 OK\"\n",
      "HTTP Request: GET http://localhost:8080/v1/schema/HCC_QuestionAndAnswer \"HTTP/1.1 200 OK\"\n",
      "HTTP Request: GET http://localhost:8080/v1/schema/HCC_QuestionAndAnswer \"HTTP/1.1 200 OK\"\n",
      "INFO:httpx:HTTP Request: GET http://localhost:8080/v1/schema/HCC_QuestionAndAnswer \"HTTP/1.1 200 OK\"\n",
      "HTTP Request: GET http://localhost:8080/v1/schema/HCC_QuestionAndAnswer \"HTTP/1.1 200 OK\"\n",
      "HTTP Request: GET http://localhost:8080/v1/schema/HCC_QuestionAndAnswer \"HTTP/1.1 200 OK\"\n"
     ]
    },
    {
     "name": "stderr",
     "output_type": "stream",
     "text": [
      "\n"
     ]
    }
   ],
   "source": [
    "nodes = retriever.retrieve(query)"
   ]
  },
  {
   "cell_type": "code",
   "execution_count": 94,
   "id": "8156fecf-c883-4dc7-90fd-dcb27426ad11",
   "metadata": {},
   "outputs": [
    {
     "name": "stdout",
     "output_type": "stream",
     "text": [
      "1 Đăng ký kết hôn bao nhiêu ngày sẽ có kết quả?\n",
      "2 Thời hạn đăng ký kết hôn có yếu tố nước ngoài hiện nay bao nhiêu ngày?\n",
      "3 Thời hạn giải quyết đăng ký kết hôn có yếu tố nước ngoài bao nhiêu lâu ?\n"
     ]
    }
   ],
   "source": [
    "texts = [item.text for item in nodes]\n",
    "for index, _ in enumerate(texts, start=1):\n",
    "    print(index, texts[index - 1])"
   ]
  },
  {
   "cell_type": "code",
   "execution_count": 95,
   "id": "ae35f5f3-c3f8-4828-8776-99ac48972d79",
   "metadata": {},
   "outputs": [
    {
     "data": {
      "text/plain": [
       "0.0"
      ]
     },
     "execution_count": 95,
     "metadata": {},
     "output_type": "execute_result"
    }
   ],
   "source": [
    "nodes[0].score"
   ]
  },
  {
   "cell_type": "code",
   "execution_count": 96,
   "id": "8c940d35-e2b1-4829-b609-fb2dac95f3ba",
   "metadata": {},
   "outputs": [
    {
     "data": {
      "text/markdown": [
       "**Node ID:** 156e0c63-5d6d-42dd-acfa-42c1a65f0448<br>**Similarity:** 0.0<br>**Text:** Đăng ký kết hôn bao nhiêu ngày sẽ có kết quả?<br>"
      ],
      "text/plain": [
       "<IPython.core.display.Markdown object>"
      ]
     },
     "metadata": {},
     "output_type": "display_data"
    },
    {
     "data": {
      "text/markdown": [
       "**Node ID:** 9aa54b0e-1803-4065-ac1d-91c0a2c4715a<br>**Similarity:** 0.45405739545822144<br>**Text:** Thời hạn đăng ký kết hôn có yếu tố nước ngoài hiện nay bao nhiêu ngày?<br>"
      ],
      "text/plain": [
       "<IPython.core.display.Markdown object>"
      ]
     },
     "metadata": {},
     "output_type": "display_data"
    },
    {
     "data": {
      "text/markdown": [
       "**Node ID:** ec9b0dd6-d8de-4ade-838a-fdcc5deaea32<br>**Similarity:** 0.4826204776763916<br>**Text:** Thời hạn giải quyết đăng ký kết hôn có yếu tố nước ngoài bao nhiêu lâu ?<br>"
      ],
      "text/plain": [
       "<IPython.core.display.Markdown object>"
      ]
     },
     "metadata": {},
     "output_type": "display_data"
    }
   ],
   "source": [
    "from llama_index.core.response.notebook_utils import display_source_node\n",
    "\n",
    "for node in nodes:\n",
    "    display_source_node(node, source_length=1024)"
   ]
  },
  {
   "cell_type": "code",
   "execution_count": 52,
   "id": "eb0a172c-35fe-44bf-b9a3-b6cf0ebc4b50",
   "metadata": {},
   "outputs": [
    {
     "name": "stdout",
     "output_type": "stream",
     "text": [
      "Thời hạn giải quyết thủ tục đăng ký công bố hợp chuẩn dựa trên kết quả chứng nhận hợp chuẩn của tổ chức\n",
      " chứng nhận?\n",
      "Theo quy định của pháp luật: 05 ngày làm việc kể từ ngày nhận đủ hồ sơ hợp lệ\n",
      "Theo thực tế tại địa phương: 04 ngày làm việc kể từ ngày nhận đủ hồ sơ hợp lệ\n"
     ]
    }
   ],
   "source": [
    "print(nodes[0].text)\n",
    "print(nodes[0].metadata['answer'])"
   ]
  },
  {
   "cell_type": "markdown",
   "id": "62837deb",
   "metadata": {},
   "source": []
  }
 ],
 "metadata": {
  "kernelspec": {
   "display_name": "Python 3 (ipykernel)",
   "language": "python",
   "name": "python3"
  },
  "language_info": {
   "codemirror_mode": {
    "name": "ipython",
    "version": 3
   },
   "file_extension": ".py",
   "mimetype": "text/x-python",
   "name": "python",
   "nbconvert_exporter": "python",
   "pygments_lexer": "ipython3",
   "version": "3.11.9"
  }
 },
 "nbformat": 4,
 "nbformat_minor": 5
}
